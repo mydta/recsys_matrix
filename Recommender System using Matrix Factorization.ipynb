{
 "cells": [
  {
   "cell_type": "code",
   "execution_count": 1,
   "id": "40c15546",
   "metadata": {
    "id": "40c15546"
   },
   "outputs": [],
   "source": [
    "import warnings\n",
    "warnings.filterwarnings('ignore')\n",
    "import numpy as np\n",
    "import pandas as pd\n",
    "from collections import Counter\n",
    "from sklearn.model_selection import train_test_split\n",
    "from scipy import sparse\n",
    "import math"
   ]
  },
  {
   "cell_type": "code",
   "execution_count": 2,
   "id": "1acb95a8",
   "metadata": {
    "colab": {
     "base_uri": "https://localhost:8080/"
    },
    "id": "1acb95a8",
    "outputId": "7b8d49e9-f9e0-4ab7-ef51-aff837400908"
   },
   "outputs": [
    {
     "name": "stdout",
     "output_type": "stream",
     "text": [
      "   user_id  anime_id  rating\n",
      "0        1        20      -1\n",
      "1        1        24      -1\n",
      "2        1        79      -1\n",
      "3        1       226      -1\n",
      "4        1       241      -1\n"
     ]
    }
   ],
   "source": [
    "anime_ratings_df = pd.read_csv(\"rating.csv\")\n",
    "anime_ratings_df.shape\n",
    "print(anime_ratings_df.head())"
   ]
  },
  {
   "cell_type": "code",
   "execution_count": 3,
   "id": "7933c0cd",
   "metadata": {
    "colab": {
     "base_uri": "https://localhost:8080/",
     "height": 224
    },
    "id": "7933c0cd",
    "outputId": "03f3e5ed-ab36-4b22-bf8a-f33faa6848b4"
   },
   "outputs": [
    {
     "name": "stdout",
     "output_type": "stream",
     "text": [
      "(6337241, 3)\n"
     ]
    },
    {
     "data": {
      "text/html": [
       "<div>\n",
       "<style scoped>\n",
       "    .dataframe tbody tr th:only-of-type {\n",
       "        vertical-align: middle;\n",
       "    }\n",
       "\n",
       "    .dataframe tbody tr th {\n",
       "        vertical-align: top;\n",
       "    }\n",
       "\n",
       "    .dataframe thead th {\n",
       "        text-align: right;\n",
       "    }\n",
       "</style>\n",
       "<table border=\"1\" class=\"dataframe\">\n",
       "  <thead>\n",
       "    <tr style=\"text-align: right;\">\n",
       "      <th></th>\n",
       "      <th>user_id</th>\n",
       "      <th>anime_id</th>\n",
       "      <th>rating</th>\n",
       "    </tr>\n",
       "  </thead>\n",
       "  <tbody>\n",
       "    <tr>\n",
       "      <th>0</th>\n",
       "      <td>1</td>\n",
       "      <td>8074</td>\n",
       "      <td>10</td>\n",
       "    </tr>\n",
       "    <tr>\n",
       "      <th>1</th>\n",
       "      <td>1</td>\n",
       "      <td>11617</td>\n",
       "      <td>10</td>\n",
       "    </tr>\n",
       "    <tr>\n",
       "      <th>2</th>\n",
       "      <td>1</td>\n",
       "      <td>11757</td>\n",
       "      <td>10</td>\n",
       "    </tr>\n",
       "    <tr>\n",
       "      <th>3</th>\n",
       "      <td>1</td>\n",
       "      <td>15451</td>\n",
       "      <td>10</td>\n",
       "    </tr>\n",
       "    <tr>\n",
       "      <th>4</th>\n",
       "      <td>2</td>\n",
       "      <td>11771</td>\n",
       "      <td>10</td>\n",
       "    </tr>\n",
       "  </tbody>\n",
       "</table>\n",
       "</div>"
      ],
      "text/plain": [
       "   user_id  anime_id  rating\n",
       "0        1      8074      10\n",
       "1        1     11617      10\n",
       "2        1     11757      10\n",
       "3        1     15451      10\n",
       "4        2     11771      10"
      ]
     },
     "execution_count": 3,
     "metadata": {},
     "output_type": "execute_result"
    }
   ],
   "source": [
    "anime_ratings = anime_ratings_df.loc[anime_ratings_df.rating != -1].reset_index()[['user_id','anime_id','rating']]\n",
    "print(anime_ratings.shape)\n",
    "anime_ratings.head()"
   ]
  },
  {
   "cell_type": "code",
   "execution_count": 4,
   "id": "38bcd4e1",
   "metadata": {
    "colab": {
     "base_uri": "https://localhost:8080/",
     "height": 470
    },
    "id": "38bcd4e1",
    "outputId": "5d54aa34-aac3-40d1-e4d9-bb127dde783d"
   },
   "outputs": [
    {
     "data": {
      "text/plain": [
       "array([[<Axes: title={'center': 'rating'}>]], dtype=object)"
      ]
     },
     "execution_count": 4,
     "metadata": {},
     "output_type": "execute_result"
    },
    {
     "data": {
      "image/png": "[encoded data removed]",
      "text/plain": [
       "<Figure size 432x288 with 1 Axes>"
      ]
     },
     "metadata": {
      "needs_background": "light"
     },
     "output_type": "display_data"
    }
   ],
   "source": [
    "anime_ratings.hist(column = 'rating')"
   ]
  },
  {
   "cell_type": "code",
   "execution_count": 5,
   "id": "5a3e896f",
   "metadata": {
    "colab": {
     "base_uri": "https://localhost:8080/"
    },
    "id": "5a3e896f",
    "outputId": "ec58c94d-a82a-4cb9-a85b-f155d1984853"
   },
   "outputs": [
    {
     "data": {
      "text/plain": [
       "91.05231321839081"
      ]
     },
     "execution_count": 5,
     "metadata": {},
     "output_type": "execute_result"
    }
   ],
   "source": [
    "np.mean(anime_ratings.groupby(['user_id']).count()['anime_id'])"
   ]
  },
  {
   "cell_type": "code",
   "execution_count": 6,
   "id": "472470a6",
   "metadata": {
    "id": "472470a6"
   },
   "outputs": [],
   "source": [
    "train_df, valid_df = train_test_split(anime_ratings, test_size=0.2)\n",
    "train_df = train_df.reset_index()[['user_id', 'anime_id', 'rating']]\n",
    "valid_df = valid_df.reset_index()[['user_id', 'anime_id', 'rating']]"
   ]
  },
  {
   "cell_type": "code",
   "execution_count": 7,
   "id": "ab58291b",
   "metadata": {
    "id": "ab58291b"
   },
   "outputs": [],
   "source": [
    "def encode_column(column):\n",
    "    \"\"\" Encodes a pandas column with continous IDs\"\"\"\n",
    "    keys = column.unique()\n",
    "    key_to_id = {key:idx for idx,key in enumerate(keys)}\n",
    "    return key_to_id, np.array([key_to_id[x] for x in column]), len(keys)"
   ]
  },
  {
   "cell_type": "code",
   "execution_count": 8,
   "id": "65ed81e8",
   "metadata": {
    "id": "65ed81e8"
   },
   "outputs": [],
   "source": [
    "def encode_df(anime_df):\n",
    "    \"\"\"Encodes rating data with continuous user and anime ids\"\"\"\n",
    "\n",
    "    anime_ids, anime_df['anime_id'], num_anime = encode_column(anime_df['anime_id'])\n",
    "    user_ids, anime_df['user_id'], num_users = encode_column(anime_df['user_id'])\n",
    "    return anime_df, num_users, num_anime, user_ids, anime_ids"
   ]
  },
  {
   "cell_type": "code",
   "execution_count": 9,
   "id": "bf1c2ee8",
   "metadata": {
    "colab": {
     "base_uri": "https://localhost:8080/",
     "height": 242
    },
    "id": "bf1c2ee8",
    "outputId": "093ce5de-92ef-4594-a7a1-e9e209833fac"
   },
   "outputs": [
    {
     "name": "stdout",
     "output_type": "stream",
     "text": [
      "Number of users : 68850\n",
      "Number of anime : 9743\n"
     ]
    },
    {
     "data": {
      "text/html": [
       "<div>\n",
       "<style scoped>\n",
       "    .dataframe tbody tr th:only-of-type {\n",
       "        vertical-align: middle;\n",
       "    }\n",
       "\n",
       "    .dataframe tbody tr th {\n",
       "        vertical-align: top;\n",
       "    }\n",
       "\n",
       "    .dataframe thead th {\n",
       "        text-align: right;\n",
       "    }\n",
       "</style>\n",
       "<table border=\"1\" class=\"dataframe\">\n",
       "  <thead>\n",
       "    <tr style=\"text-align: right;\">\n",
       "      <th></th>\n",
       "      <th>user_id</th>\n",
       "      <th>anime_id</th>\n",
       "      <th>rating</th>\n",
       "    </tr>\n",
       "  </thead>\n",
       "  <tbody>\n",
       "    <tr>\n",
       "      <th>0</th>\n",
       "      <td>0</td>\n",
       "      <td>0</td>\n",
       "      <td>7</td>\n",
       "    </tr>\n",
       "    <tr>\n",
       "      <th>1</th>\n",
       "      <td>1</td>\n",
       "      <td>1</td>\n",
       "      <td>7</td>\n",
       "    </tr>\n",
       "    <tr>\n",
       "      <th>2</th>\n",
       "      <td>2</td>\n",
       "      <td>2</td>\n",
       "      <td>7</td>\n",
       "    </tr>\n",
       "    <tr>\n",
       "      <th>3</th>\n",
       "      <td>3</td>\n",
       "      <td>3</td>\n",
       "      <td>7</td>\n",
       "    </tr>\n",
       "    <tr>\n",
       "      <th>4</th>\n",
       "      <td>4</td>\n",
       "      <td>4</td>\n",
       "      <td>8</td>\n",
       "    </tr>\n",
       "  </tbody>\n",
       "</table>\n",
       "</div>"
      ],
      "text/plain": [
       "   user_id  anime_id  rating\n",
       "0        0         0       7\n",
       "1        1         1       7\n",
       "2        2         2       7\n",
       "3        3         3       7\n",
       "4        4         4       8"
      ]
     },
     "execution_count": 9,
     "metadata": {},
     "output_type": "execute_result"
    }
   ],
   "source": [
    "anime_df, num_users, num_anime, user_ids, anime_ids = encode_df(train_df)\n",
    "print(\"Number of users :\", num_users)\n",
    "print(\"Number of anime :\", num_anime)\n",
    "anime_df.head()"
   ]
  },
  {
   "cell_type": "code",
   "execution_count": 10,
   "id": "7c10ad88",
   "metadata": {
    "id": "7c10ad88"
   },
   "outputs": [],
   "source": [
    "# n: number of items/users\n",
    "# K: number of factors in the embedding\n",
    "def create_embeddings(n, K):\n",
    "    return 11*np.random.random((n, K)) / K"
   ]
  },
  {
   "cell_type": "code",
   "execution_count": 11,
   "id": "22f60e20",
   "metadata": {
    "id": "22f60e20"
   },
   "outputs": [],
   "source": [
    "def create_sparse_matrix(df, rows, cols, column_name=\"rating\"):\n",
    "    return sparse.csc_matrix((df[column_name].values,(df['user_id'].values, df['anime_id'].values)),shape=(rows, cols))"
   ]
  },
  {
   "cell_type": "code",
   "execution_count": 12,
   "id": "9289067b",
   "metadata": {
    "id": "9289067b"
   },
   "outputs": [],
   "source": [
    "anime_df, num_users, num_anime, user_ids, anime_ids = encode_df(train_df)\n",
    "Y = create_sparse_matrix(anime_df, num_users, num_anime)"
   ]
  },
  {
   "cell_type": "code",
   "execution_count": 13,
   "id": "724de0c2",
   "metadata": {
    "colab": {
     "base_uri": "https://localhost:8080/"
    },
    "id": "724de0c2",
    "outputId": "47e83179-da67-41c4-a453-77066bff0294"
   },
   "outputs": [
    {
     "data": {
      "text/plain": [
       "matrix([[7, 0, 0, ..., 0, 0, 0],\n",
       "        [0, 7, 0, ..., 0, 0, 0],\n",
       "        [0, 0, 7, ..., 0, 0, 0],\n",
       "        ...,\n",
       "        [0, 0, 0, ..., 0, 0, 0],\n",
       "        [0, 0, 0, ..., 0, 0, 0],\n",
       "        [0, 0, 0, ..., 0, 0, 0]])"
      ]
     },
     "execution_count": 13,
     "metadata": {},
     "output_type": "execute_result"
    }
   ],
   "source": [
    "Y.todense()"
   ]
  },
  {
   "cell_type": "code",
   "execution_count": 14,
   "id": "3a7d3ad4",
   "metadata": {
    "id": "3a7d3ad4"
   },
   "outputs": [],
   "source": [
    "# Computes df[\"prediction\"] by using elementwise multiplication of the corresponding embeddings and then\n",
    "# sum to get the prediction u_i*v_j\n",
    "def predict(df, emb_user, emb_anime):\n",
    "    df['prediction'] = np.sum(np.multiply(emb_anime[df['anime_id']],emb_user[df['user_id']]), axis=1)\n",
    "    return df"
   ]
  },
  {
   "cell_type": "code",
   "execution_count": 15,
   "id": "570e8465",
   "metadata": {
    "id": "570e8465"
   },
   "outputs": [],
   "source": [
    "lmbda = 0.0002"
   ]
  },
  {
   "cell_type": "code",
   "execution_count": 16,
   "id": "89c2865a",
   "metadata": {
    "id": "89c2865a"
   },
   "outputs": [],
   "source": [
    "def cost(df, emb_user, emb_anime):\n",
    "    Y = create_sparse_matrix(df, emb_user.shape[0], emb_anime.shape[0])\n",
    "    predicted = create_sparse_matrix(predict(df, emb_user, emb_anime), emb_user.shape[0], emb_anime.shape[0], 'prediction')\n",
    "    return math.sqrt(np.sum((Y-predicted).power(2))/df.shape[0])"
   ]
  },
  {
   "cell_type": "code",
   "execution_count": 17,
   "id": "41aeaf82",
   "metadata": {
    "id": "41aeaf82"
   },
   "outputs": [],
   "source": [
    "def gradient(df, emb_user, emb_anime):\n",
    "    Y = create_sparse_matrix(df, emb_user.shape[0], emb_anime.shape[0])\n",
    "    predicted = create_sparse_matrix(predict(df, emb_user, emb_anime), emb_user.shape[0], emb_anime.shape[0], 'prediction')\n",
    "    delta =(Y-predicted)\n",
    "    grad_user = (-2/df.shape[0])*(delta*emb_anime) + 2*lmbda*emb_user\n",
    "    grad_anime = (-2/df.shape[0])*(delta.T*emb_user) + 2*lmbda*emb_anime\n",
    "    return grad_user, grad_anime"
   ]
  },
  {
   "cell_type": "code",
   "execution_count": 18,
   "id": "00afc819",
   "metadata": {
    "id": "00afc819"
   },
   "outputs": [],
   "source": [
    "# emb_user: the trained user embedding\n",
    "# emb_anime: the trained anime embedding\n",
    "def gradient_descent(df, emb_user, emb_anime, iterations=2000, learning_rate=0.01, df_val=None):\n",
    "    Y = create_sparse_matrix(df, emb_user.shape[0], emb_anime.shape[0])\n",
    "    beta = 0.9\n",
    "    grad_user, grad_anime = gradient(df, emb_user, emb_anime)\n",
    "    v_user = grad_user\n",
    "    v_anime = grad_anime\n",
    "    for i in range(iterations):\n",
    "        grad_user, grad_anime = gradient(df, emb_user, emb_anime)\n",
    "        v_user = beta*v_user + (1-beta)*grad_user\n",
    "        v_anime = beta*v_anime + (1-beta)*grad_anime\n",
    "        emb_user = emb_user - learning_rate*v_user\n",
    "        emb_anime = emb_anime - learning_rate*v_anime\n",
    "        if(not (i+1)%50):\n",
    "            print(\"\\niteration\", i+1, \":\")\n",
    "            print(\"train rmse:\",  cost(df, emb_user, emb_anime))\n",
    "            if df_val is not None:\n",
    "                print(\"validation rmse:\",  cost(df_val, emb_user, emb_anime))\n",
    "    return emb_user, emb_anime"
   ]
  },
  {
   "cell_type": "code",
   "execution_count": 19,
   "id": "24c2c45d",
   "metadata": {
    "colab": {
     "base_uri": "https://localhost:8080/"
    },
    "id": "24c2c45d",
    "outputId": "ab51186a-55de-438b-9704-70707a169478"
   },
   "outputs": [
    {
     "name": "stdout",
     "output_type": "stream",
     "text": [
      "\n",
      "iteration 50 :\n",
      "train rmse: 2.8764236642425343\n",
      "\n",
      "iteration 100 :\n",
      "train rmse: 2.730261813681435\n",
      "\n",
      "iteration 150 :\n",
      "train rmse: 2.6429648310995635\n",
      "\n",
      "iteration 200 :\n",
      "train rmse: 2.5813871739014114\n",
      "\n",
      "iteration 250 :\n",
      "train rmse: 2.534682937207157\n",
      "\n",
      "iteration 300 :\n",
      "train rmse: 2.4979668080549335\n",
      "\n",
      "iteration 350 :\n",
      "train rmse: 2.4686135659339112\n",
      "\n",
      "iteration 400 :\n",
      "train rmse: 2.4450354654759945\n",
      "\n",
      "iteration 450 :\n",
      "train rmse: 2.4261855187646777\n",
      "\n",
      "iteration 500 :\n",
      "train rmse: 2.4113252932676907\n",
      "\n",
      "iteration 550 :\n",
      "train rmse: 2.3999049482788464\n",
      "\n",
      "iteration 600 :\n",
      "train rmse: 2.391496467858716\n",
      "\n",
      "iteration 650 :\n",
      "train rmse: 2.3857542905799924\n",
      "\n",
      "iteration 700 :\n",
      "train rmse: 2.3823909900998155\n",
      "\n",
      "iteration 750 :\n",
      "train rmse: 2.381161661883713\n",
      "\n",
      "iteration 800 :\n",
      "train rmse: 2.3818535628774824\n"
     ]
    }
   ],
   "source": [
    "emb_user = create_embeddings(num_users, 5)\n",
    "emb_anime = create_embeddings(num_anime, 5)\n",
    "emb_user, emb_anime = gradient_descent(anime_df, emb_user, emb_anime, iterations=800, learning_rate=1)"
   ]
  },
  {
   "cell_type": "code",
   "execution_count": 21,
   "id": "8e802609",
   "metadata": {
    "id": "8e802609"
   },
   "outputs": [],
   "source": [
    "def encode_new_data(valid_df, user_ids, anime_ids):\n",
    "    df_val_chosen = valid_df['anime_id'].isin(anime_ids.keys()) & valid_df['user_id'].isin(user_ids.keys())\n",
    "    valid_df = valid_df[df_val_chosen]\n",
    "    valid_df['anime_id'] =  np.array([anime_ids[x] for x in valid_df['anime_id']])\n",
    "    valid_df['user_id'] = np.array([user_ids[x] for x in valid_df['user_id']])\n",
    "    return valid_df"
   ]
  },
  {
   "cell_type": "code",
   "execution_count": 22,
   "id": "88fac6dd",
   "metadata": {
    "colab": {
     "base_uri": "https://localhost:8080/"
    },
    "id": "88fac6dd",
    "outputId": "c962b1a5-1daf-4b88-af4e-5d87d395c0d6"
   },
   "outputs": [
    {
     "name": "stdout",
     "output_type": "stream",
     "text": [
      "before encoding: (1267449, 3)\n",
      "after encoding: (748544, 3)\n"
     ]
    }
   ],
   "source": [
    "print(\"before encoding:\", valid_df.shape)\n",
    "valid_df = encode_new_data(valid_df, user_ids, anime_ids)\n",
    "print(\"after encoding:\", valid_df.shape)"
   ]
  },
  {
   "cell_type": "code",
   "execution_count": 23,
   "id": "8637ebc7",
   "metadata": {
    "colab": {
     "base_uri": "https://localhost:8080/"
    },
    "id": "8637ebc7",
    "outputId": "6152c8a2-5d99-4562-92c3-ca9b6d4821e4"
   },
   "outputs": [
    {
     "name": "stdout",
     "output_type": "stream",
     "text": [
      "2.3818535628774824 4.03836971145614\n"
     ]
    }
   ],
   "source": [
    "train_rmse = cost(train_df, emb_user, emb_anime)\n",
    "val_rmse = cost(valid_df, emb_user, emb_anime)\n",
    "print(train_rmse, val_rmse)"
   ]
  },
  {
   "cell_type": "code",
   "execution_count": 50,
   "id": "c64cded5",
   "metadata": {},
   "outputs": [
    {
     "data": {
      "text/html": [
       "<div>\n",
       "<style scoped>\n",
       "    .dataframe tbody tr th:only-of-type {\n",
       "        vertical-align: middle;\n",
       "    }\n",
       "\n",
       "    .dataframe tbody tr th {\n",
       "        vertical-align: top;\n",
       "    }\n",
       "\n",
       "    .dataframe thead th {\n",
       "        text-align: right;\n",
       "    }\n",
       "</style>\n",
       "<table border=\"1\" class=\"dataframe\">\n",
       "  <thead>\n",
       "    <tr style=\"text-align: right;\">\n",
       "      <th></th>\n",
       "      <th>user_id</th>\n",
       "      <th>anime_id</th>\n",
       "      <th>rating</th>\n",
       "      <th>prediction</th>\n",
       "    </tr>\n",
       "  </thead>\n",
       "  <tbody>\n",
       "    <tr>\n",
       "      <th>0</th>\n",
       "      <td>59759</td>\n",
       "      <td>740</td>\n",
       "      <td>8</td>\n",
       "      <td>6.387917</td>\n",
       "    </tr>\n",
       "    <tr>\n",
       "      <th>1</th>\n",
       "      <td>53281</td>\n",
       "      <td>1366</td>\n",
       "      <td>8</td>\n",
       "      <td>3.959869</td>\n",
       "    </tr>\n",
       "    <tr>\n",
       "      <th>2</th>\n",
       "      <td>58604</td>\n",
       "      <td>6676</td>\n",
       "      <td>8</td>\n",
       "      <td>2.680622</td>\n",
       "    </tr>\n",
       "    <tr>\n",
       "      <th>3</th>\n",
       "      <td>62469</td>\n",
       "      <td>3455</td>\n",
       "      <td>6</td>\n",
       "      <td>4.088992</td>\n",
       "    </tr>\n",
       "    <tr>\n",
       "      <th>5</th>\n",
       "      <td>4842</td>\n",
       "      <td>449</td>\n",
       "      <td>7</td>\n",
       "      <td>6.198959</td>\n",
       "    </tr>\n",
       "  </tbody>\n",
       "</table>\n",
       "</div>"
      ],
      "text/plain": [
       "   user_id  anime_id  rating  prediction\n",
       "0    59759       740       8    6.387917\n",
       "1    53281      1366       8    3.959869\n",
       "2    58604      6676       8    2.680622\n",
       "3    62469      3455       6    4.088992\n",
       "5     4842       449       7    6.198959"
      ]
     },
     "execution_count": 50,
     "metadata": {},
     "output_type": "execute_result"
    }
   ],
   "source": [
    "valid_df.head()"
   ]
  }
 ],
 "metadata": {
  "colab": {
   "provenance": []
  },
  "kernelspec": {
   "display_name": "Python 3",
   "language": "python",
   "name": "python3"
  },
  "language_info": {
   "codemirror_mode": {
    "name": "ipython",
    "version": 3
   },
   "file_extension": ".py",
   "mimetype": "text/x-python",
   "name": "python",
   "nbconvert_exporter": "python",
   "pygments_lexer": "ipython3",
   "version": "3.8.8"
  }
 },
 "nbformat": 4,
 "nbformat_minor": 5
}
